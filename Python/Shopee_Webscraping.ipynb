{
 "cells": [
  {
   "cell_type": "code",
   "execution_count": 2,
   "metadata": {},
   "outputs": [],
   "source": [
    "import pandas as pd\n",
    "from selenium import webdriver\n",
    "from selenium.webdriver.firefox.service import Service as FirefoxService\n",
    "from selenium.common.exceptions import NoSuchElementException\n",
    "from webdriver_manager.firefox import GeckoDriverManager\n",
    "from selenium.webdriver.common.keys import Keys\n",
    "from selenium.webdriver.common.by import By\n",
    "import bs4\n",
    "import time\n",
    "import re"
   ]
  },
  {
   "cell_type": "markdown",
   "metadata": {},
   "source": [
    "# Selenium on web"
   ]
  },
  {
   "cell_type": "code",
   "execution_count": 3,
   "metadata": {},
   "outputs": [],
   "source": [
    "def selenium_shopee(keyword, username, password):\n",
    "    try:\n",
    "        # Open browser using Selenium\n",
    "        driver = webdriver.Firefox(service=FirefoxService(GeckoDriverManager().install()))\n",
    "        driver.get('https://shopee.co.th')\n",
    "        time.sleep(3)\n",
    "\n",
    "        # Select Thai language\n",
    "        thai_button = driver.find_element(by=By.XPATH, value='/html/body/div[2]/div[1]/div[1]/div/div[3]/div[1]/button')\n",
    "        thai_button.click()\n",
    "\n",
    "        # Close Ads\n",
    "        time.sleep(3)\n",
    "        close_ads = driver.execute_script(\n",
    "            'return document.querySelector(\"shopee-banner-popup-stateful\").shadowRoot.querySelector(\"div.shopee-popup__close-btn\")')\n",
    "        close_ads.click()\n",
    "\n",
    "        # Search bar\n",
    "        search = driver.find_element(by=By.XPATH,value='/html/body/div[1]/div/header/div[2]/div/div[1]/form/div/div[1]/input')\n",
    "        search.send_keys(keyword)\n",
    "        search.send_keys(Keys.ENTER)\n",
    "\n",
    "        # Login to Shopee\n",
    "        time.sleep(5)\n",
    "        mail = driver.find_element(by=By.XPATH,value='/html/body/div[1]/div/div[2]/div/div/div/div[2]/form/div/div[2]/div[2]/div[1]/input')\n",
    "        mail.send_keys(username)\n",
    "        pw = driver.find_element(by=By.XPATH,value='/html/body/div[1]/div/div[2]/div/div/div/div[2]/form/div/div[2]/div[3]/div[1]/input')\n",
    "        pw.send_keys(password)\n",
    "        time.sleep(1)\n",
    "        log = driver.find_element(by=By .XPATH,value='/html/body/div[1]/div/div[2]/div/div/div/div[2]/form/div/div[2]/button')\n",
    "        log.click()\n",
    "        time.sleep(5)\n",
    "        aut = driver.find_element(by=By.XPATH,value='/html/body/div[1]/div/div[2]/div/div/div/div/div[1]/div/div/div/button')\n",
    "        aut.click()\n",
    "        time.sleep(30)\n",
    "\n",
    "    except NoSuchElementException:\n",
    "        print(\"Element not found. Handle the error or add appropriate code.\")\n",
    "    except Exception as e:\n",
    "        print(f\"An error occurred: {str(e)}\")\n",
    "    \n",
    "    return driver\n"
   ]
  },
  {
   "cell_type": "code",
   "execution_count": 4,
   "metadata": {},
   "outputs": [],
   "source": [
    "driver = selenium_shopee(keyword='Your Keyword',username='Your Username',password='password')"
   ]
  },
  {
   "cell_type": "markdown",
   "metadata": {},
   "source": [
    "# Scraping Process"
   ]
  },
  {
   "cell_type": "code",
   "execution_count": 14,
   "metadata": {},
   "outputs": [],
   "source": [
    "\n",
    "def shopee_scraping(len_page,web_path):\n",
    "    \n",
    "    product_list = []\n",
    "    all_price = []\n",
    "    solds = []\n",
    "    locations = []\n",
    "\n",
    "\n",
    "    for page in range(0,len_page):\n",
    "\n",
    "        # Enter to each pages\n",
    "        driver.get(web_path+f'{page}')\n",
    "\n",
    "        # Zoom out pageg 10%\n",
    "        driver.execute_script(\"document.body.style.MozTransform='scale(0.1)';\")\n",
    "        driver.execute_script('document.body.style.MozTransformOrigin = \"0 0\";')\n",
    "\n",
    "        \n",
    "        # Transform html to reaable\n",
    "        time.sleep(7)\n",
    "        data = driver.page_source\n",
    "        soup = bs4.BeautifulSoup(data)\n",
    "\n",
    "        # Scrap product name\n",
    "\n",
    "        product_name = soup.find_all('div',{'class':'ie3A+n bM+7UW Cve6sh'})\n",
    "        for name in product_name:\n",
    "            product_list.append(name.text)\n",
    "\n",
    "        # Scrap product full price\n",
    "\n",
    "        product_all_price = soup.find_all('div',{'class':'hpDKMN'})\n",
    "        for price in product_all_price:\n",
    "            all_price.append(price.text)\n",
    "\n",
    "        # Scrap product sold\n",
    "\n",
    "        product_sold = soup.find_all('div',{'class':'ZnrnMl'})\n",
    "        for sold in product_sold:\n",
    "            solds.append(sold.text)\n",
    "\n",
    "        # Scrap product location\n",
    "\n",
    "        product_location = soup.find_all('div',{'class':'zGGwiV'})\n",
    "        for location in product_location:\n",
    "            locations.append(location.text)\n",
    "        \n",
    "        print(f'End page {page+1}')\n",
    "\n",
    "    data = {'Product_list':product_list,'product_all_price':all_price,'Product_sold':solds,'Location':locations}\n",
    "    df = pd.DataFrame(data=data)\n",
    "\n",
    "    return df\n"
   ]
  },
  {
   "cell_type": "code",
   "execution_count": null,
   "metadata": {},
   "outputs": [],
   "source": [
    "df = shopee_scraping('Number of page',web_path='Your web path')"
   ]
  },
  {
   "cell_type": "markdown",
   "metadata": {},
   "source": [
    "# Cleaning Data Process\n"
   ]
  },
  {
   "cell_type": "code",
   "execution_count": 7,
   "metadata": {},
   "outputs": [],
   "source": [
    "df_clean = df.copy()"
   ]
  },
  {
   "cell_type": "code",
   "execution_count": 8,
   "metadata": {},
   "outputs": [],
   "source": [
    "\n",
    "# Extract Original price\n",
    "df_clean['original_price'] = df_clean['product_all_price'].str.extract(r'฿([\\d,]+)')\n",
    "\n",
    "## Extract full_price and discount_price\n",
    "df_clean[['Full_price', 'discount_price']] = df_clean['product_all_price'].str.extract(r'฿([\\d,]+)฿([\\d,]+)')\n",
    "\n",
    "## Extract start_price and high_price\n",
    "df_clean[['Starting_price', 'Highest_price']] = df_clean['product_all_price'].str.extract(r'฿([\\d,]+) - ฿([\\d,]+)')\n",
    "\n",
    "\n",
    "## Remove commas and convert to numeric, filling NaN with 0\n",
    "df_clean['Full_price'] = pd.to_numeric(df_clean['Full_price'].str.replace(',', ''), errors='coerce').fillna(0).astype(int)\n",
    "df_clean['discount_price'] = pd.to_numeric(df_clean['discount_price'].str.replace(',', ''), errors='coerce').fillna(0).astype(int)\n",
    "df_clean['Starting_price'] = pd.to_numeric(df_clean['Starting_price'].str.replace(',', ''), errors='coerce').fillna(0).astype(int)\n",
    "df_clean['Highest_price'] = pd.to_numeric(df_clean['Highest_price'].str.replace(',', ''), errors='coerce').fillna(0).astype(int)\n",
    "df_clean['original_price'] = pd.to_numeric(df_clean['original_price'].str.replace(',', ''), errors='coerce').fillna(0).astype(int)\n",
    "\n",
    "## Delete numbers in original_price when equal to starting_price \n",
    "mask = (df_clean['original_price'] == df_clean['Starting_price'])\n",
    "df_clean['original_price'] = df_clean['original_price'].where(~mask, 0)\n",
    "\n",
    "## Drop and change column name\n",
    "df_clean.drop(['Full_price'],axis=1,inplace=True)\n",
    "df_clean.rename(columns={'original_price':'Full_price'},inplace=True)\n",
    "\n",
    "# Function to clean the product_sold column\n",
    "def clean_sales(sale_str):\n",
    "    # Use regular expression to find floats followed by 'พัน'\n",
    "    matches = re.findall(r'(\\d+\\.\\d+)\\s*พัน', sale_str) or re.findall(r'(\\d+)\\s*พัน', sale_str)\n",
    "    \n",
    "    # Loop through matches and replace with '000พัน'\n",
    "    for match in matches:\n",
    "        sale_str = sale_str.replace(match + 'พัน', match + '000พัน')\n",
    "    \n",
    "    return sale_str\n",
    "\n",
    "# Apply the function to the 'Product_sold' column\n",
    "df_clean['Product_sold'] = df_clean['Product_sold'].apply(clean_sales)\n",
    "\n",
    "df_clean['Product_sold']  = df_clean['Product_sold'] .str.extract(r'([\\d.]+)')[0]\n",
    "df_clean['Product_sold']  = pd.to_numeric(df_clean['Product_sold'].str.replace('.', ''), errors='coerce').fillna(0).astype(int)\n",
    "\n",
    "\n",
    "## Rearange column\n",
    "df_clean = df_clean[['Product_list','Full_price','discount_price','Starting_price','Highest_price','Product_sold','Location']]"
   ]
  }
 ],
 "metadata": {
  "kernelspec": {
   "display_name": "Python 3",
   "language": "python",
   "name": "python3"
  },
  "language_info": {
   "codemirror_mode": {
    "name": "ipython",
    "version": 3
   },
   "file_extension": ".py",
   "mimetype": "text/x-python",
   "name": "python",
   "nbconvert_exporter": "python",
   "pygments_lexer": "ipython3",
   "version": "3.9.2"
  }
 },
 "nbformat": 4,
 "nbformat_minor": 2
}
