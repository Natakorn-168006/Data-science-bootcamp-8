{
  "nbformat": 4,
  "nbformat_minor": 0,
  "metadata": {
    "colab": {
      "provenance": [],
      "authorship_tag": "ABX9TyNe3qWwD9ttfY6Ku8gaBURS",
      "include_colab_link": true
    },
    "kernelspec": {
      "name": "python3",
      "display_name": "Python 3"
    },
    "language_info": {
      "name": "python"
    }
  },
  "cells": [
    {
      "cell_type": "markdown",
      "metadata": {
        "id": "view-in-github",
        "colab_type": "text"
      },
      "source": [
        "<a href=\"https://colab.research.google.com/github/Natakorn-168006/Data-science-bootcamp-8/blob/main/Python/Rock_Paper_Scissor.ipynb\" target=\"_parent\"><img src=\"https://colab.research.google.com/assets/colab-badge.svg\" alt=\"Open In Colab\"/></a>"
      ]
    },
    {
      "cell_type": "code",
      "source": [
        "import random"
      ],
      "metadata": {
        "id": "ZjvpKToViHp5"
      },
      "execution_count": 3,
      "outputs": []
    },
    {
      "cell_type": "code",
      "execution_count": 10,
      "metadata": {
        "id": "6ZesNh0Ah5x5"
      },
      "outputs": [],
      "source": [
        "def rock_paper_scissor():\n",
        "    option = ['rock','paper','scissor']\n",
        "    point = 0\n",
        "    com_point  = 0\n",
        "    tie = 0\n",
        "    count = 0\n",
        "    print('Discription :\\nplayer can type rock , paper , scissor to play with computer and quit to end the game\\n')\n",
        "\n",
        "    while True :\n",
        "        player = input('Player choice : ').lower()\n",
        "        random.shuffle(option)\n",
        "        com = option[0]\n",
        "\n",
        "        if player == 'quit' :\n",
        "            print('\\nGame over')\n",
        "            print(f'player win : {point}')\n",
        "            print(f'computer win : {com_point}')\n",
        "            print(f'Tie : {tie}')\n",
        "            break\n",
        "        elif player not in option :\n",
        "            print('invalid choice , please try again')\n",
        "            continue\n",
        "        elif player == 'rock' and com == 'scissor' :\n",
        "            point += 1\n",
        "            count +=1\n",
        "            print('player win')\n",
        "        elif player == 'paper' and com == 'rock' :\n",
        "            point += 1\n",
        "            count +=1\n",
        "            print('player win')\n",
        "        elif player == 'scissor' and com == 'paper' :\n",
        "            point += 1\n",
        "            count +=1\n",
        "            print('player win')\n",
        "        elif player == com :\n",
        "            print('Tie')\n",
        "            tie +=1\n",
        "        else :\n",
        "            com_point +=1\n",
        "            print('player loss')\n",
        "\n"
      ]
    },
    {
      "cell_type": "code",
      "source": [
        "rock_paper_scissor()"
      ],
      "metadata": {
        "id": "WR105VV7iD4Y"
      },
      "execution_count": null,
      "outputs": []
    }
  ]
}